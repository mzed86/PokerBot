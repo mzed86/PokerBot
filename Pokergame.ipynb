{
 "cells": [
  {
   "cell_type": "code",
   "execution_count": 11,
   "metadata": {
    "collapsed": true
   },
   "outputs": [],
   "source": [
    "file = \"HH20160905 Betelgeuse II - 5-10 - Play Money No Limit Hold'em.txt\"\n",
    "path = '' #r\"/Users/MZ/Library/Application Support/PokerStartsUK/HandHistory/B@TM0N/\"\n",
    "filepath = path+file\n",
    "\n",
    "\n",
    "\n",
    "text = []\n",
    "\n",
    "with open(filepath) as inputfile:\n",
    "    for line in inputfile:\n",
    "        text.append(line)"
   ]
  },
  {
   "cell_type": "code",
   "execution_count": 12,
   "metadata": {},
   "outputs": [
    {
     "name": "stdout",
     "output_type": "stream",
     "text": [
      "('Hand: ', 'd #1582058824', ' at pos:', 0)\n('dealer is seat:', '2')\n('B@TM0N seat: ', '1')\n('B@TM0N has ', 1000, ' chips')\n('big blind is: ', ' 10\\n')\n('Hand: ', '158206001739:', ' at pos:', 52)\n('dealer is seat:', '4')\n('B@TM0N seat: ', '1')\n('B@TM0N has ', 885, ' chips')\n('big blind is: ', ' 10\\n')\n"
     ]
    }
   ],
   "source": [
    "for i in range(len(text)):\n",
    "    if 'PokerStars Hand' in text[i]:\n",
    "        ## hand initiator\n",
    "        print('Hand: ',text[i][17:30],' at pos:' ,i )\n",
    "    if 'Seat #' in text[i]:\n",
    "        print(\"dealer is seat:\" ,text[i][text[i].find('#')+1])\n",
    "    if ': B@TM0N' in text[i] and 'chips' in text[i]:\n",
    "        print('B@TM0N seat: ',text[i][text[i].find(': B@TM0N')-1])\n",
    "        print('B@TM0N has ', int(text[i][text[i].find('(')+1:text[i].find('in chips')]),' chips')\n",
    "    if ' big blind ' in text[i]:\n",
    "        print('big blind is: ',text[i][text[i].find('big blind')+9:])"
   ]
  },
  {
   "cell_type": "code",
   "execution_count": 13,
   "metadata": {},
   "outputs": [],
   "source": [
    ""
   ]
  },
  {
   "cell_type": "code",
   "execution_count": 13,
   "metadata": {},
   "outputs": [],
   "source": [
    ""
   ]
  }
 ],
 "metadata": {
  "kernelspec": {
   "display_name": "Python 2",
   "language": "python",
   "name": "python2"
  },
  "language_info": {
   "codemirror_mode": {
    "name": "ipython",
    "version": 2.0
   },
   "file_extension": ".py",
   "mimetype": "text/x-python",
   "name": "python",
   "nbconvert_exporter": "python",
   "pygments_lexer": "ipython2",
   "version": "2.7.6"
  }
 },
 "nbformat": 4,
 "nbformat_minor": 0
}